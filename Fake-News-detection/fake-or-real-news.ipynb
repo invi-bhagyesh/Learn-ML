{
 "cells": [
  {
   "cell_type": "markdown",
   "id": "cf5b0131",
   "metadata": {
    "papermill": {
     "duration": 0.003634,
     "end_time": "2025-03-14T09:32:32.251986",
     "exception": false,
     "start_time": "2025-03-14T09:32:32.248352",
     "status": "completed"
    },
    "tags": []
   },
   "source": [
    "# **Fake News Detection using Passive-Aggressive Classifier and TF-IDF**\n",
    "## **Introduction**\n",
    "In today's digital age, the spread of misinformation and fake news has become a significant challenge. To combat this, we can leverage **Machine Learning** techniques to build a model that can classify news articles as **Real** or **Fake**.\n",
    "\n",
    "In this notebook, we will:\n",
    "- Convert news text into numerical features using **TF-IDF (Term Frequency-Inverse Document Frequency)**.\n",
    "- Use a **Passive-Aggressive Classifier (PAC)**, an efficient online learning algorithm, to detect fake news.\n",
    "- Evaluate model performance using **accuracy and F1-score**.\n",
    "\n",
    "## **Why Passive-Aggressive Classifier?**\n",
    "The **Passive-Aggressive Classifier** is well-suited for **real-time text classification** because:\n",
    "- It **updates only when a mistake is made** (Passive when correct, Aggressive when incorrect).\n",
    "- It works efficiently on **large, high-dimensional datasets** (like text data).\n",
    "- It is a **fast and lightweight algorithm** suitable for news classification.\n"
   ]
  },
  {
   "cell_type": "code",
   "execution_count": 1,
   "id": "a80db5a7",
   "metadata": {
    "_cell_guid": "b1076dfc-b9ad-4769-8c92-a6c4dae69d19",
    "_uuid": "8f2839f25d086af736a60e9eeb907d3b93b6e0e5",
    "execution": {
     "iopub.execute_input": "2025-03-14T09:32:32.260225Z",
     "iopub.status.busy": "2025-03-14T09:32:32.259861Z",
     "iopub.status.idle": "2025-03-14T09:32:32.273214Z",
     "shell.execute_reply": "2025-03-14T09:32:32.271823Z"
    },
    "papermill": {
     "duration": 0.019545,
     "end_time": "2025-03-14T09:32:32.274971",
     "exception": false,
     "start_time": "2025-03-14T09:32:32.255426",
     "status": "completed"
    },
    "tags": []
   },
   "outputs": [
    {
     "name": "stdout",
     "output_type": "stream",
     "text": [
      "/kaggle/input/real-or-fake-news/news.csv\n"
     ]
    }
   ],
   "source": [
    "\n",
    "import os\n",
    "for dirname, _, filenames in os.walk('/kaggle/input'):\n",
    "    for filename in filenames:\n",
    "        print(os.path.join(dirname, filename))\n"
   ]
  },
  {
   "cell_type": "markdown",
   "id": "b59360ec",
   "metadata": {
    "papermill": {
     "duration": 0.002835,
     "end_time": "2025-03-14T09:32:32.281309",
     "exception": false,
     "start_time": "2025-03-14T09:32:32.278474",
     "status": "completed"
    },
    "tags": []
   },
   "source": [
    "### Import necessary library"
   ]
  },
  {
   "cell_type": "code",
   "execution_count": 2,
   "id": "b5321abb",
   "metadata": {
    "execution": {
     "iopub.execute_input": "2025-03-14T09:32:32.288963Z",
     "iopub.status.busy": "2025-03-14T09:32:32.288595Z",
     "iopub.status.idle": "2025-03-14T09:32:34.804139Z",
     "shell.execute_reply": "2025-03-14T09:32:34.803266Z"
    },
    "papermill": {
     "duration": 2.521368,
     "end_time": "2025-03-14T09:32:34.805939",
     "exception": false,
     "start_time": "2025-03-14T09:32:32.284571",
     "status": "completed"
    },
    "tags": []
   },
   "outputs": [],
   "source": [
    "import numpy as np\n",
    "import pandas as pd\n",
    "from sklearn.model_selection import train_test_split\n",
    "from sklearn.feature_extraction.text import TfidfVectorizer\n",
    "from sklearn.linear_model import PassiveAggressiveClassifier\n",
    "from sklearn.metrics import accuracy_score, confusion_matrix\n",
    "from sklearn.metrics import f1_score\n"
   ]
  },
  {
   "cell_type": "markdown",
   "id": "aeb10667",
   "metadata": {
    "papermill": {
     "duration": 0.003094,
     "end_time": "2025-03-14T09:32:34.812549",
     "exception": false,
     "start_time": "2025-03-14T09:32:34.809455",
     "status": "completed"
    },
    "tags": []
   },
   "source": [
    "### Preprocessing"
   ]
  },
  {
   "cell_type": "code",
   "execution_count": 3,
   "id": "e6b433fd",
   "metadata": {
    "execution": {
     "iopub.execute_input": "2025-03-14T09:32:34.820194Z",
     "iopub.status.busy": "2025-03-14T09:32:34.819709Z",
     "iopub.status.idle": "2025-03-14T09:32:35.983447Z",
     "shell.execute_reply": "2025-03-14T09:32:35.982426Z"
    },
    "papermill": {
     "duration": 1.169179,
     "end_time": "2025-03-14T09:32:35.984946",
     "exception": false,
     "start_time": "2025-03-14T09:32:34.815767",
     "status": "completed"
    },
    "tags": []
   },
   "outputs": [
    {
     "data": {
      "text/html": [
       "<div>\n",
       "<style scoped>\n",
       "    .dataframe tbody tr th:only-of-type {\n",
       "        vertical-align: middle;\n",
       "    }\n",
       "\n",
       "    .dataframe tbody tr th {\n",
       "        vertical-align: top;\n",
       "    }\n",
       "\n",
       "    .dataframe thead th {\n",
       "        text-align: right;\n",
       "    }\n",
       "</style>\n",
       "<table border=\"1\" class=\"dataframe\">\n",
       "  <thead>\n",
       "    <tr style=\"text-align: right;\">\n",
       "      <th></th>\n",
       "      <th>Unnamed: 0</th>\n",
       "      <th>title</th>\n",
       "      <th>text</th>\n",
       "      <th>label</th>\n",
       "    </tr>\n",
       "  </thead>\n",
       "  <tbody>\n",
       "    <tr>\n",
       "      <th>0</th>\n",
       "      <td>8476</td>\n",
       "      <td>You Can Smell Hillary’s Fear</td>\n",
       "      <td>Daniel Greenfield, a Shillman Journalism Fello...</td>\n",
       "      <td>FAKE</td>\n",
       "    </tr>\n",
       "    <tr>\n",
       "      <th>1</th>\n",
       "      <td>10294</td>\n",
       "      <td>Watch The Exact Moment Paul Ryan Committed Pol...</td>\n",
       "      <td>Google Pinterest Digg Linkedin Reddit Stumbleu...</td>\n",
       "      <td>FAKE</td>\n",
       "    </tr>\n",
       "    <tr>\n",
       "      <th>2</th>\n",
       "      <td>3608</td>\n",
       "      <td>Kerry to go to Paris in gesture of sympathy</td>\n",
       "      <td>U.S. Secretary of State John F. Kerry said Mon...</td>\n",
       "      <td>REAL</td>\n",
       "    </tr>\n",
       "    <tr>\n",
       "      <th>3</th>\n",
       "      <td>10142</td>\n",
       "      <td>Bernie supporters on Twitter erupt in anger ag...</td>\n",
       "      <td>— Kaydee King (@KaydeeKing) November 9, 2016 T...</td>\n",
       "      <td>FAKE</td>\n",
       "    </tr>\n",
       "    <tr>\n",
       "      <th>4</th>\n",
       "      <td>875</td>\n",
       "      <td>The Battle of New York: Why This Primary Matters</td>\n",
       "      <td>It's primary day in New York and front-runners...</td>\n",
       "      <td>REAL</td>\n",
       "    </tr>\n",
       "  </tbody>\n",
       "</table>\n",
       "</div>"
      ],
      "text/plain": [
       "   Unnamed: 0                                              title  \\\n",
       "0        8476                       You Can Smell Hillary’s Fear   \n",
       "1       10294  Watch The Exact Moment Paul Ryan Committed Pol...   \n",
       "2        3608        Kerry to go to Paris in gesture of sympathy   \n",
       "3       10142  Bernie supporters on Twitter erupt in anger ag...   \n",
       "4         875   The Battle of New York: Why This Primary Matters   \n",
       "\n",
       "                                                text label  \n",
       "0  Daniel Greenfield, a Shillman Journalism Fello...  FAKE  \n",
       "1  Google Pinterest Digg Linkedin Reddit Stumbleu...  FAKE  \n",
       "2  U.S. Secretary of State John F. Kerry said Mon...  REAL  \n",
       "3  — Kaydee King (@KaydeeKing) November 9, 2016 T...  FAKE  \n",
       "4  It's primary day in New York and front-runners...  REAL  "
      ]
     },
     "execution_count": 3,
     "metadata": {},
     "output_type": "execute_result"
    }
   ],
   "source": [
    "#Read the data\n",
    "df = pd.read_csv('/kaggle/input/real-or-fake-news/news.csv')\n",
    "\n",
    "#shape and head\n",
    "df.shape\n",
    "df.head()"
   ]
  },
  {
   "cell_type": "code",
   "execution_count": 4,
   "id": "bf237908",
   "metadata": {
    "execution": {
     "iopub.execute_input": "2025-03-14T09:32:35.993274Z",
     "iopub.status.busy": "2025-03-14T09:32:35.992835Z",
     "iopub.status.idle": "2025-03-14T09:32:35.999444Z",
     "shell.execute_reply": "2025-03-14T09:32:35.998455Z"
    },
    "papermill": {
     "duration": 0.012852,
     "end_time": "2025-03-14T09:32:36.001352",
     "exception": false,
     "start_time": "2025-03-14T09:32:35.988500",
     "status": "completed"
    },
    "tags": []
   },
   "outputs": [
    {
     "data": {
      "text/plain": [
       "0    FAKE\n",
       "1    FAKE\n",
       "2    REAL\n",
       "3    FAKE\n",
       "4    REAL\n",
       "Name: label, dtype: object"
      ]
     },
     "execution_count": 4,
     "metadata": {},
     "output_type": "execute_result"
    }
   ],
   "source": [
    "#labels\n",
    "labels = df.label\n",
    "labels.head()"
   ]
  },
  {
   "cell_type": "code",
   "execution_count": 5,
   "id": "b48d9568",
   "metadata": {
    "execution": {
     "iopub.execute_input": "2025-03-14T09:32:36.010119Z",
     "iopub.status.busy": "2025-03-14T09:32:36.009757Z",
     "iopub.status.idle": "2025-03-14T09:32:36.022516Z",
     "shell.execute_reply": "2025-03-14T09:32:36.021652Z"
    },
    "papermill": {
     "duration": 0.019037,
     "end_time": "2025-03-14T09:32:36.024148",
     "exception": false,
     "start_time": "2025-03-14T09:32:36.005111",
     "status": "completed"
    },
    "tags": []
   },
   "outputs": [],
   "source": [
    "#Spitting into test and train\n",
    "x_train, x_test, y_train, y_test = train_test_split(df['text'], labels, test_size=0.2, random_state=8)"
   ]
  },
  {
   "cell_type": "markdown",
   "id": "90a6561e",
   "metadata": {
    "papermill": {
     "duration": 0.003412,
     "end_time": "2025-03-14T09:32:36.031357",
     "exception": false,
     "start_time": "2025-03-14T09:32:36.027945",
     "status": "completed"
    },
    "tags": []
   },
   "source": [
    "### Tfidf Vectorizer\n",
    "\t• Extracts important words in news articles.\n",
    "\t• Helps classify news as REAL or FAKE.\n",
    "\t• Used with Passive-Aggressive Classifier (PAC) for fast and effective classification."
   ]
  },
  {
   "cell_type": "code",
   "execution_count": 6,
   "id": "e15b2dff",
   "metadata": {
    "execution": {
     "iopub.execute_input": "2025-03-14T09:32:36.040800Z",
     "iopub.status.busy": "2025-03-14T09:32:36.040446Z",
     "iopub.status.idle": "2025-03-14T09:32:40.241568Z",
     "shell.execute_reply": "2025-03-14T09:32:40.240432Z"
    },
    "papermill": {
     "duration": 4.208875,
     "end_time": "2025-03-14T09:32:40.243714",
     "exception": false,
     "start_time": "2025-03-14T09:32:36.034839",
     "status": "completed"
    },
    "tags": []
   },
   "outputs": [],
   "source": [
    "#initialise a Tfidfvectorizer\n",
    "\n",
    "tfidf_vectorizer = TfidfVectorizer(stop_words='english', max_df=0.8)\n",
    "\n",
    "# Fit and transform \n",
    "tfidf_train = tfidf_vectorizer.fit_transform(x_train)\n",
    "tfidf_test = tfidf_vectorizer.transform(x_test)\n"
   ]
  },
  {
   "cell_type": "markdown",
   "id": "0b0ca0e3",
   "metadata": {
    "papermill": {
     "duration": 0.003809,
     "end_time": "2025-03-14T09:32:40.251552",
     "exception": false,
     "start_time": "2025-03-14T09:32:40.247743",
     "status": "completed"
    },
    "tags": []
   },
   "source": [
    "### PAC algorithm\n",
    "    1. Initialize a weight vector w (starting with zeros or small random values).\n",
    "\t2. Make a prediction using: y_pred = sign(w * x)\n",
    "\t3. If prediction is correct, do nothing (Passive).\n",
    "\t4. If incorrect, update w aggressively to correct the mistake (Aggressive): w = w + τyx"
   ]
  },
  {
   "cell_type": "code",
   "execution_count": 7,
   "id": "04f8a4c6",
   "metadata": {
    "execution": {
     "iopub.execute_input": "2025-03-14T09:32:40.260007Z",
     "iopub.status.busy": "2025-03-14T09:32:40.259688Z",
     "iopub.status.idle": "2025-03-14T09:32:40.371044Z",
     "shell.execute_reply": "2025-03-14T09:32:40.369927Z"
    },
    "papermill": {
     "duration": 0.117571,
     "end_time": "2025-03-14T09:32:40.372884",
     "exception": false,
     "start_time": "2025-03-14T09:32:40.255313",
     "status": "completed"
    },
    "tags": []
   },
   "outputs": [
    {
     "name": "stdout",
     "output_type": "stream",
     "text": [
      "Accuracy(Train): 100.0%\n",
      "Accuracy(Test): 94%\n"
     ]
    }
   ],
   "source": [
    "#initialise PassiveAgressiveClassifier\n",
    "pac = PassiveAggressiveClassifier(max_iter=50)\n",
    "pac.fit(tfidf_train, y_train)\n",
    "\n",
    "x_pred = pac.predict(tfidf_train)\n",
    "score_train = accuracy_score(y_train, x_pred)\n",
    "print(f'Accuracy(Train): {score_train*100}%')\n",
    "\n",
    "#Predict on test and calculate accurracy\n",
    "y_pred = pac.predict(tfidf_test)\n",
    "score  = accuracy_score(y_test, y_pred)\n",
    "print(f'Accuracy(Test): {round(score*100)}%')"
   ]
  },
  {
   "cell_type": "code",
   "execution_count": 8,
   "id": "06944a4a",
   "metadata": {
    "execution": {
     "iopub.execute_input": "2025-03-14T09:32:40.381645Z",
     "iopub.status.busy": "2025-03-14T09:32:40.381315Z",
     "iopub.status.idle": "2025-03-14T09:32:40.400975Z",
     "shell.execute_reply": "2025-03-14T09:32:40.399709Z"
    },
    "papermill": {
     "duration": 0.025991,
     "end_time": "2025-03-14T09:32:40.402651",
     "exception": false,
     "start_time": "2025-03-14T09:32:40.376660",
     "status": "completed"
    },
    "tags": []
   },
   "outputs": [
    {
     "name": "stdout",
     "output_type": "stream",
     "text": [
      "Recall: 0.938\n",
      "\n",
      "Confusion Matrix:\n",
      "[[600  36]\n",
      " [ 44 587]]\n"
     ]
    }
   ],
   "source": [
    "#metrics\n",
    "f1 = f1_score(y_test, y_pred, pos_label='FAKE')\n",
    "conf = confusion_matrix(y_test, y_pred, labels = ['FAKE', 'REAL'])\n",
    "print(f'Recall: {f1:.3f}\\n\\nConfusion Matrix:\\n{conf}')\n"
   ]
  }
 ],
 "metadata": {
  "kaggle": {
   "accelerator": "none",
   "dataSources": [
    {
     "datasetId": 6867965,
     "sourceId": 11028237,
     "sourceType": "datasetVersion"
    }
   ],
   "dockerImageVersionId": 30918,
   "isGpuEnabled": false,
   "isInternetEnabled": true,
   "language": "python",
   "sourceType": "notebook"
  },
  "kernelspec": {
   "display_name": "Python 3",
   "language": "python",
   "name": "python3"
  },
  "language_info": {
   "codemirror_mode": {
    "name": "ipython",
    "version": 3
   },
   "file_extension": ".py",
   "mimetype": "text/x-python",
   "name": "python",
   "nbconvert_exporter": "python",
   "pygments_lexer": "ipython3",
   "version": "3.10.12"
  },
  "papermill": {
   "default_parameters": {},
   "duration": 11.648884,
   "end_time": "2025-03-14T09:32:41.125957",
   "environment_variables": {},
   "exception": null,
   "input_path": "__notebook__.ipynb",
   "output_path": "__notebook__.ipynb",
   "parameters": {},
   "start_time": "2025-03-14T09:32:29.477073",
   "version": "2.6.0"
  }
 },
 "nbformat": 4,
 "nbformat_minor": 5
}
